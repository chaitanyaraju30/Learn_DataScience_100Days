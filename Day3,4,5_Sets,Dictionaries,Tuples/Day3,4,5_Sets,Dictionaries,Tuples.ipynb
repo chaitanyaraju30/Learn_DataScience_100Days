{
 "cells": [
  {
   "cell_type": "markdown",
   "id": "2bdde0b1",
   "metadata": {},
   "source": [
    "Set is an unordered collection data structure that is iterable,mutable and has no duplicate elements.Set is based on data structure known as a hash table.Sets does not support indexing."
   ]
  },
  {
   "cell_type": "code",
   "execution_count": 1,
   "id": "1742c44b",
   "metadata": {},
   "outputs": [],
   "source": [
    "test_set = set() #Declaring an empty set"
   ]
  },
  {
   "cell_type": "code",
   "execution_count": 27,
   "id": "0a740389",
   "metadata": {},
   "outputs": [
    {
     "data": {
      "text/plain": [
       "set"
      ]
     },
     "execution_count": 27,
     "metadata": {},
     "output_type": "execute_result"
    }
   ],
   "source": [
    "type(test_set)"
   ]
  },
  {
   "cell_type": "code",
   "execution_count": 10,
   "id": "081432db",
   "metadata": {},
   "outputs": [
    {
     "name": "stdout",
     "output_type": "stream",
     "text": [
      "{'Ironman', 'Hitman', 'Avengers'}\n"
     ]
    }
   ],
   "source": [
    "set_var = {\"Avengers\",\"Ironman\",\"Hitman\"}\n",
    "print(set_var)"
   ]
  },
  {
   "cell_type": "code",
   "execution_count": 12,
   "id": "0d72d8c3",
   "metadata": {},
   "outputs": [],
   "source": [
    "set_var.add(\"2\")#Appends the element to the set"
   ]
  },
  {
   "cell_type": "code",
   "execution_count": 13,
   "id": "f03a44bd",
   "metadata": {},
   "outputs": [
    {
     "data": {
      "text/plain": [
       "{'2', 'Avengers', 'Hitman', 'Ironman'}"
      ]
     },
     "execution_count": 13,
     "metadata": {},
     "output_type": "execute_result"
    }
   ],
   "source": [
    "set_var"
   ]
  },
  {
   "cell_type": "code",
   "execution_count": 24,
   "id": "b23399f6",
   "metadata": {},
   "outputs": [
    {
     "data": {
      "text/plain": [
       "{1, 2, 'R'}"
      ]
     },
     "execution_count": 24,
     "metadata": {},
     "output_type": "execute_result"
    }
   ],
   "source": [
    "set1 = {1,2,3,4,5,6,\"R\"}\n",
    "set2 = {3,4,5,6,8,9}\n",
    "set1.difference(set2)#This will provide the difference between set1 and set2"
   ]
  },
  {
   "cell_type": "code",
   "execution_count": 18,
   "id": "64ac7a45",
   "metadata": {},
   "outputs": [],
   "source": [
    "set1 = {1,2,3,4,5,6,\"R\"}\n",
    "set2 = {3,4,5,6,8,9}\n",
    "set1.difference_update(set2)#This will provide the difference between set1 and set2 and also update the set1"
   ]
  },
  {
   "cell_type": "code",
   "execution_count": 23,
   "id": "be12a8d8",
   "metadata": {},
   "outputs": [
    {
     "data": {
      "text/plain": [
       "{3, 4, 5, 6}"
      ]
     },
     "execution_count": 23,
     "metadata": {},
     "output_type": "execute_result"
    }
   ],
   "source": [
    "set1"
   ]
  },
  {
   "cell_type": "code",
   "execution_count": 21,
   "id": "96664b32",
   "metadata": {},
   "outputs": [
    {
     "data": {
      "text/plain": [
       "{3, 4, 5, 6}"
      ]
     },
     "execution_count": 21,
     "metadata": {},
     "output_type": "execute_result"
    }
   ],
   "source": [
    "set1.intersection(set2)#This will provide only the common elements from both sets"
   ]
  },
  {
   "cell_type": "code",
   "execution_count": 22,
   "id": "ad7c01bc",
   "metadata": {},
   "outputs": [],
   "source": [
    "set1.intersection_update(set2)#This will provide and update 1 with only the common elements from both sets"
   ]
  },
  {
   "cell_type": "markdown",
   "id": "eccc9272",
   "metadata": {},
   "source": [
    "A dictionary is a collection which is unordered,changeable,indexed.Dictionaries has key and values."
   ]
  },
  {
   "cell_type": "code",
   "execution_count": 28,
   "id": "46514087",
   "metadata": {},
   "outputs": [],
   "source": [
    "dic =  {} #Declaring an empty dict"
   ]
  },
  {
   "cell_type": "code",
   "execution_count": 29,
   "id": "cbecdb32",
   "metadata": {},
   "outputs": [],
   "source": [
    "test_dict = dict() #Declaring an empty dict"
   ]
  },
  {
   "cell_type": "code",
   "execution_count": 31,
   "id": "30698182",
   "metadata": {},
   "outputs": [
    {
     "data": {
      "text/plain": [
       "dict"
      ]
     },
     "execution_count": 31,
     "metadata": {},
     "output_type": "execute_result"
    }
   ],
   "source": [
    "type(dic)"
   ]
  },
  {
   "cell_type": "code",
   "execution_count": 32,
   "id": "63cfbab5",
   "metadata": {},
   "outputs": [],
   "source": [
    "test_dict = {\"Car1\" : \"Audi\",\"Car2\": \"BMW\",\"Car3\": \"Benz\"}"
   ]
  },
  {
   "cell_type": "code",
   "execution_count": 44,
   "id": "d5ada380",
   "metadata": {},
   "outputs": [
    {
     "data": {
      "text/plain": [
       "'Audi'"
      ]
     },
     "execution_count": 44,
     "metadata": {},
     "output_type": "execute_result"
    }
   ],
   "source": [
    "test_dict[\"Car1\"] #Access based on the keys"
   ]
  },
  {
   "cell_type": "code",
   "execution_count": 33,
   "id": "29a721eb",
   "metadata": {},
   "outputs": [
    {
     "name": "stdout",
     "output_type": "stream",
     "text": [
      "{'Car1': 'Audi', 'Car2': 'BMW', 'Car3': 'Benz'}\n"
     ]
    }
   ],
   "source": [
    "print(test_dict)"
   ]
  },
  {
   "cell_type": "code",
   "execution_count": 40,
   "id": "e6e4fd97",
   "metadata": {},
   "outputs": [
    {
     "name": "stdout",
     "output_type": "stream",
     "text": [
      "Car1\n",
      "Car2\n",
      "Car3\n"
     ]
    }
   ],
   "source": [
    "for i in test_dict: \n",
    "    print(i)"
   ]
  },
  {
   "cell_type": "code",
   "execution_count": 42,
   "id": "e5a5789e",
   "metadata": {},
   "outputs": [
    {
     "name": "stdout",
     "output_type": "stream",
     "text": [
      "('Car1', 'Audi')\n",
      "('Car2', 'BMW')\n",
      "('Car3', 'Benz')\n"
     ]
    }
   ],
   "source": [
    "for i in test_dict.items():\n",
    "    print(i)"
   ]
  },
  {
   "cell_type": "code",
   "execution_count": 43,
   "id": "f6c4cc38",
   "metadata": {},
   "outputs": [
    {
     "name": "stdout",
     "output_type": "stream",
     "text": [
      "Audi\n",
      "BMW\n",
      "Benz\n"
     ]
    }
   ],
   "source": [
    "for i in test_dict.values():\n",
    "    print(i)"
   ]
  },
  {
   "cell_type": "code",
   "execution_count": 47,
   "id": "918c8872",
   "metadata": {},
   "outputs": [],
   "source": [
    "test_dict['Car4'] = 'Audi 2.0'#Adding items to the dictionary. "
   ]
  },
  {
   "cell_type": "code",
   "execution_count": 49,
   "id": "d0bb3008",
   "metadata": {},
   "outputs": [
    {
     "data": {
      "text/plain": [
       "{'Car1': 'Maruthi', 'Car2': 'BMW', 'Car3': 'Benz', 'Car4': 'Audi 2.0'}"
      ]
     },
     "execution_count": 49,
     "metadata": {},
     "output_type": "execute_result"
    }
   ],
   "source": [
    "test_dict"
   ]
  },
  {
   "cell_type": "code",
   "execution_count": 48,
   "id": "6ef58f5c",
   "metadata": {},
   "outputs": [],
   "source": [
    "test_dict['Car1'] = 'Maruthi' #Repalcing the value with the existing key , the value will be over written."
   ]
  },
  {
   "cell_type": "code",
   "execution_count": 50,
   "id": "f7a9ef11",
   "metadata": {},
   "outputs": [],
   "source": [
    "car1_model = {'Benz':1960}\n",
    "car2_model = {'Maruthi':1980}\n",
    "car3_model = {'Audi':1960}\n",
    "\n",
    "car_type = {'car1':car1_model,'car2':car2_model,'car3':car3_model}"
   ]
  },
  {
   "cell_type": "code",
   "execution_count": 51,
   "id": "315282d9",
   "metadata": {},
   "outputs": [
    {
     "data": {
      "text/plain": [
       "{'car1': {'Benz': 1960}, 'car2': {'Maruthi': 1980}, 'car3': {'Audi': 1960}}"
      ]
     },
     "execution_count": 51,
     "metadata": {},
     "output_type": "execute_result"
    }
   ],
   "source": [
    "car_type#Nested dictionary"
   ]
  },
  {
   "cell_type": "code",
   "execution_count": 52,
   "id": "5678737a",
   "metadata": {},
   "outputs": [
    {
     "data": {
      "text/plain": [
       "{'Benz': 1960}"
      ]
     },
     "execution_count": 52,
     "metadata": {},
     "output_type": "execute_result"
    }
   ],
   "source": [
    "car_type['car1']"
   ]
  },
  {
   "cell_type": "code",
   "execution_count": 54,
   "id": "d1709c66",
   "metadata": {},
   "outputs": [
    {
     "data": {
      "text/plain": [
       "1980"
      ]
     },
     "execution_count": 54,
     "metadata": {},
     "output_type": "execute_result"
    }
   ],
   "source": [
    "car_type['car2']['Maruthi']"
   ]
  },
  {
   "cell_type": "markdown",
   "id": "067c5864",
   "metadata": {},
   "source": [
    "Tuples are immutable , we cannot able to change once created i.e an single item/element cannot be changed but the entire tuple can be changed."
   ]
  },
  {
   "cell_type": "code",
   "execution_count": 55,
   "id": "5e277dc3",
   "metadata": {},
   "outputs": [],
   "source": [
    "my_tuple = () #Declaring an empty tuple"
   ]
  },
  {
   "cell_type": "code",
   "execution_count": 56,
   "id": "8791323a",
   "metadata": {},
   "outputs": [
    {
     "data": {
      "text/plain": [
       "tuple"
      ]
     },
     "execution_count": 56,
     "metadata": {},
     "output_type": "execute_result"
    }
   ],
   "source": [
    "type(my_tuple)"
   ]
  },
  {
   "cell_type": "code",
   "execution_count": 57,
   "id": "6b4d9bfa",
   "metadata": {},
   "outputs": [],
   "source": [
    "my_tuple = (\"Ram\",\"Raju\")"
   ]
  },
  {
   "cell_type": "code",
   "execution_count": 58,
   "id": "b5d1ec16",
   "metadata": {},
   "outputs": [
    {
     "data": {
      "text/plain": [
       "'Ram'"
      ]
     },
     "execution_count": 58,
     "metadata": {},
     "output_type": "execute_result"
    }
   ],
   "source": [
    "my_tuple[0]#Accesing the elements using indexing"
   ]
  },
  {
   "cell_type": "code",
   "execution_count": 60,
   "id": "9568ae71",
   "metadata": {},
   "outputs": [
    {
     "data": {
      "text/plain": [
       "1"
      ]
     },
     "execution_count": 60,
     "metadata": {},
     "output_type": "execute_result"
    }
   ],
   "source": [
    "my_tuple.index('Raju')"
   ]
  }
 ],
 "metadata": {
  "kernelspec": {
   "display_name": "Python 3",
   "language": "python",
   "name": "python3"
  },
  "language_info": {
   "codemirror_mode": {
    "name": "ipython",
    "version": 3
   },
   "file_extension": ".py",
   "mimetype": "text/x-python",
   "name": "python",
   "nbconvert_exporter": "python",
   "pygments_lexer": "ipython3",
   "version": "3.8.8"
  }
 },
 "nbformat": 4,
 "nbformat_minor": 5
}
