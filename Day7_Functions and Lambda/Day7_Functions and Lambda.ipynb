{
 "cells": [
  {
   "cell_type": "markdown",
   "id": "4dfc6888",
   "metadata": {},
   "source": [
    "Function is a block of code which only runs when it is called.\n",
    "\n",
    "Parameter : Parameter is the variable listed inside the parentheses in the functions\n",
    "\n",
    "Arguments : Argument is the value that is passed to the functions\n",
    "\n",
    "By deafualt, a function must be called with the correct number of arguments. If your function expect 2 arguments then by we need to provide two arguments only.If we call the function without argument, it uses the default value"
   ]
  },
  {
   "cell_type": "markdown",
   "id": "b46282b4",
   "metadata": {},
   "source": [
    "**Arbitary arguments**\n",
    "\n",
    "If we do not know how many arguments we should pass to functions then it is advisable to pass *Args before a parameter name inside the functions.These arguments are called as Arbitary arguments.\n",
    "\n",
    "**Keyword Arguments**\n",
    "\n",
    "You can also send arguments with the key = value syntax.\n",
    "This way the order of the arguments does not matter.\n",
    "The phrase Keyword Arguments are often shortened to kwargs in Python documentations.\n",
    "\n",
    "**Arbitrary Keyword Arguments**, **kwargs\n",
    "\n",
    "If you do not know how many keyword arguments that will be passed into your function, add two asterisk: ** before the parameter name in the function definition."
   ]
  },
  {
   "cell_type": "markdown",
   "id": "937427fd",
   "metadata": {},
   "source": [
    "**Lambda**\n",
    "\n",
    "A lambda function is a small anonymous function.\n",
    "\n",
    "A lambda function can take any number of arguments, but can only have one expression.\n",
    "\n",
    "Lambda Function, also referred to as ‘Anonymous function’ is same as a regular python function but can be defined without a name.\n",
    "\n",
    "While normal functions are defined using the def keyword, anonymous functions are defined using the lambda keyword. However,they are restricted to single line of expression. They can take in mutliple parameters as in regular functions.\n",
    "\n",
    "Why Use Lambda Functions?\n",
    "Say you have a function definition that takes one argument, and that argument will be multiplied with an unknown number:\n",
    "\n",
    "They are generally used when a function is needed temporarily for a short period of time, often to be used inside another function such as filter, map and reduce.\n",
    "\n",
    "Using lambda function, you can define a function and call it immediately at the end of definition. This can’t be done with def functions."
   ]
  },
  {
   "cell_type": "code",
   "execution_count": 1,
   "id": "e0f864e9",
   "metadata": {},
   "outputs": [
    {
     "name": "stdout",
     "output_type": "stream",
     "text": [
      "Using lambda:  25\n"
     ]
    }
   ],
   "source": [
    "squares = lambda x: x*x\n",
    "print('Using lambda: ', squares(5))"
   ]
  },
  {
   "cell_type": "code",
   "execution_count": 2,
   "id": "eca18f4a",
   "metadata": {},
   "outputs": [
    {
     "data": {
      "text/plain": [
       "100"
      ]
     },
     "execution_count": 2,
     "metadata": {},
     "output_type": "execute_result"
    }
   ],
   "source": [
    "def squares_fun(n):\n",
    "    return n*n\n",
    "squares_fun(10)"
   ]
  },
  {
   "cell_type": "markdown",
   "id": "73bc95fe",
   "metadata": {},
   "source": [
    "**lambda function in filter()**\n",
    "\n",
    "filter() function is used to filter a given iterable (list like object) using another function that defines the filtering logic.\n",
    "\n",
    "A lambda function is typically used to define the filtering logic and is passed as the first argument of filter(). An iterable like a list object is passed as the second argument to the filter function."
   ]
  },
  {
   "cell_type": "code",
   "execution_count": 3,
   "id": "4a952e3e",
   "metadata": {},
   "outputs": [
    {
     "data": {
      "text/plain": [
       "[2, 4, 6, 8, 10]"
      ]
     },
     "execution_count": 3,
     "metadata": {},
     "output_type": "execute_result"
    }
   ],
   "source": [
    "lis=[1,2,3,4,5,6,7,8,9,10]\n",
    "filter_list=list(filter(lambda x:x%2==0,lis))\n",
    "filter_list"
   ]
  },
  {
   "cell_type": "markdown",
   "id": "101e0add",
   "metadata": {},
   "source": [
    "**lambda function in map()**\n",
    "\n",
    "map() function applies a given function to all the itmes in a list and returns the result.\n",
    "\n",
    "Similar to filter(), simply pass the lambda function and the list (or any iterable, like tuple) as arguments."
   ]
  },
  {
   "cell_type": "code",
   "execution_count": 4,
   "id": "d9dea063",
   "metadata": {},
   "outputs": [
    {
     "data": {
      "text/plain": [
       "[1, 0, 1, 0, 1, 0, 1, 0, 1, 0]"
      ]
     },
     "execution_count": 4,
     "metadata": {},
     "output_type": "execute_result"
    }
   ],
   "source": [
    "lis=[1,2,3,4,5,6,7,8,9,10]\n",
    "map_list=list(map(lambda x:x%2,lis))\n",
    "map_list"
   ]
  },
  {
   "cell_type": "markdown",
   "id": "14923f77",
   "metadata": {},
   "source": [
    "**lambda function in reduce()**\n",
    "\n",
    "reduce() function performs a repetitive operation over the pairs of the elements in the list. Pass the lambda function and the list as arguments to the reduce() function\n",
    "\n",
    "For using the reduce() function, you need to import reduce from functools librray."
   ]
  },
  {
   "cell_type": "code",
   "execution_count": 5,
   "id": "e2d71cad",
   "metadata": {},
   "outputs": [],
   "source": [
    "from functools import reduce"
   ]
  },
  {
   "cell_type": "code",
   "execution_count": 11,
   "id": "4a8c1e24",
   "metadata": {},
   "outputs": [
    {
     "data": {
      "text/plain": [
       "55"
      ]
     },
     "execution_count": 11,
     "metadata": {},
     "output_type": "execute_result"
    }
   ],
   "source": [
    "lis=[1,2,3,4,5,6,7,8,9,10]\n",
    "reduce_list=reduce(lambda x,y:x+y,lis)\n",
    "reduce_list"
   ]
  },
  {
   "cell_type": "code",
   "execution_count": 7,
   "id": "aed010b0",
   "metadata": {},
   "outputs": [
    {
     "data": {
      "text/plain": [
       "120"
      ]
     },
     "execution_count": 7,
     "metadata": {},
     "output_type": "execute_result"
    }
   ],
   "source": [
    "factorial=reduce(lambda x,y:x*y,range(5,1,-1))\n",
    "factorial"
   ]
  },
  {
   "cell_type": "code",
   "execution_count": 8,
   "id": "720b60a7",
   "metadata": {},
   "outputs": [
    {
     "data": {
      "text/plain": [
       "[1, 2, 3, 4, 6, 8, 9, 10, 12]"
      ]
     },
     "execution_count": 8,
     "metadata": {},
     "output_type": "execute_result"
    }
   ],
   "source": [
    "ls=[1,2,3,4,5,6,7,8,9,10,11,12]\n",
    "filter_list=list(filter(lambda x:x%2==0 or x%3==0 or x==1,ls))\n",
    "filter_list"
   ]
  },
  {
   "cell_type": "markdown",
   "id": "dd787b41",
   "metadata": {},
   "source": [
    "Note : For reference https://www.analyticsvidhya.com/blog/2020/10/introduction-python-functions-data-science/"
   ]
  }
 ],
 "metadata": {
  "kernelspec": {
   "display_name": "Python 3",
   "language": "python",
   "name": "python3"
  },
  "language_info": {
   "codemirror_mode": {
    "name": "ipython",
    "version": 3
   },
   "file_extension": ".py",
   "mimetype": "text/x-python",
   "name": "python",
   "nbconvert_exporter": "python",
   "pygments_lexer": "ipython3",
   "version": "3.8.8"
  }
 },
 "nbformat": 4,
 "nbformat_minor": 5
}
