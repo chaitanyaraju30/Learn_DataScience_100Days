{
 "cells": [
  {
   "cell_type": "markdown",
   "id": "771d4fc3",
   "metadata": {},
   "source": [
    "### What is Control Flow?\n",
    "\n",
    "Well, in simple terms it is the order in which certain operations are executed. Let’s take a simple example, say we want to measure the air temperature outside.\n",
    "\n",
    "First we take the thermometer, then we open the door, we go outside, we close the door, we find a place in the shadow, we measure the temperature, we write it down, etc.\n",
    "\n",
    "Similar, in programming, if we want to do a specific task or operation, we need to do simple smaller steps. These steps can for example include decision making or repetition of a task for a given number of times."
   ]
  },
  {
   "cell_type": "markdown",
   "id": "999655fb",
   "metadata": {},
   "source": [
    "### if statements\n",
    "If the if statement expression evaluates to True, then the indented code following the statement is executed.\n",
    "\n",
    "If the expression evaluates to False then the indented code following the if statement is skipped and the program executes the next line of code which is indented at the same level as the if statement."
   ]
  },
  {
   "cell_type": "markdown",
   "id": "1700d584",
   "metadata": {},
   "source": [
    "### if-then statements\n",
    "The indented code for the if statement is executed if the expression evaluates to True.\n",
    "\n",
    "The indented code immediately following the else is executed only if the expression evaluates to False. To mark the end of the else block, the code must be unintended to the same level as the starting if line."
   ]
  },
  {
   "cell_type": "markdown",
   "id": "564c414e",
   "metadata": {},
   "source": [
    "### if-elif-else statement\n",
    "elif keyword can be thought as else if, we used it if we want a more distinct division between if and else.\n",
    "\n",
    "The Python elif statement allows for continued checks to be performed after an initial if statement.\n",
    "\n",
    "An elif statement differs from the else statement because another expression is provided to be checked, just as with the initial if statement.\n",
    "\n",
    "If the expression is True, the indented code following the elif gets executed.\n",
    "\n",
    "If the expression evaluates to False, the code can continue to an optional else statement.\n",
    "\n",
    "Multiple elif statements can be used following an initial if to perform a series of checks. Once an elif expression evaluates to True, no further elif or the else statement is being executed."
   ]
  },
  {
   "cell_type": "markdown",
   "id": "d68eb5ac",
   "metadata": {},
   "source": [
    "### for loops\n",
    "For loops are used when we iterate over a sequence of data, i.e. a list, tuple, dictionary, string etc.\n",
    "\n",
    "They are used when we iterate for a known (or desired) number of times, since we know how many elements there are in a list or string. The keywords to apply a for loop are for and in.\n",
    "\n"
   ]
  },
  {
   "cell_type": "markdown",
   "id": "5bc95779",
   "metadata": {},
   "source": [
    "### while loops\n",
    "while loops are used to iterate until a certain condition is satisfied.\n",
    "\n",
    "Basically, the loop is executed as many times as the condition remains True. when if becomes False, the loop stops. Let’s clarify this statement with a simple visualization.\n",
    "\n",
    "In every step of the while loop we need to change the argument in order to avoid an endless loop."
   ]
  },
  {
   "cell_type": "markdown",
   "id": "7435c730",
   "metadata": {},
   "source": [
    "### break statement\n",
    "The break statement is used in situations where we want to break out of the loop, even if the condition has not become False or we have iterated over the entire sequence.\n",
    "\n",
    "Also, if break is used, any following else blocks are not executed"
   ]
  },
  {
   "cell_type": "markdown",
   "id": "e62bef94",
   "metadata": {},
   "source": [
    "### Continue statement\n",
    "The continue statement is somewhat similar to the break statement, but instead of breaking the loop, it will start the next iteration. The visualization on the left help us get a clearer understanding."
   ]
  },
  {
   "cell_type": "markdown",
   "id": "96b1c0dd",
   "metadata": {},
   "source": [
    "1.Print the text “Hello, World!” 5 times."
   ]
  },
  {
   "cell_type": "code",
   "execution_count": 1,
   "id": "7e539735",
   "metadata": {},
   "outputs": [
    {
     "name": "stdout",
     "output_type": "stream",
     "text": [
      "Hello World\n",
      "Hello World\n",
      "Hello World\n",
      "Hello World\n",
      "Hello World\n"
     ]
    }
   ],
   "source": [
    "list = [1,2,3,4,5]\n",
    "for i in list:\n",
    "    print(\"Hello World\")"
   ]
  },
  {
   "cell_type": "code",
   "execution_count": 2,
   "id": "ea0d869c",
   "metadata": {},
   "outputs": [
    {
     "name": "stdout",
     "output_type": "stream",
     "text": [
      "Hello World\n",
      "Hello World\n",
      "Hello World\n",
      "Hello World\n",
      "Hello World\n"
     ]
    }
   ],
   "source": [
    "i =1\n",
    "while i<=5:\n",
    "    print(\"Hello World\")\n",
    "    i += 1"
   ]
  },
  {
   "cell_type": "markdown",
   "id": "90597430",
   "metadata": {},
   "source": [
    "2.Create a list of all the even numbers between 1 and 10"
   ]
  },
  {
   "cell_type": "code",
   "execution_count": 5,
   "id": "652ee41d",
   "metadata": {},
   "outputs": [
    {
     "data": {
      "text/plain": [
       "[2, 4, 6, 8, 10]"
      ]
     },
     "execution_count": 5,
     "metadata": {},
     "output_type": "execute_result"
    }
   ],
   "source": [
    "i = 1\n",
    "lst = []\n",
    "while i<=10:\n",
    "    if i%2 ==0:\n",
    "        lst.append(i)\n",
    "    i +=1\n",
    "lst"
   ]
  },
  {
   "cell_type": "code",
   "execution_count": 6,
   "id": "d3f80be8",
   "metadata": {},
   "outputs": [
    {
     "data": {
      "text/plain": [
       "[2, 4, 6, 8, 10]"
      ]
     },
     "execution_count": 6,
     "metadata": {},
     "output_type": "execute_result"
    }
   ],
   "source": [
    "lst1 = []\n",
    "for x in range(1,11):\n",
    "    if x%2 ==0:\n",
    "        lst1.append(x)\n",
    "    \n",
    "lst   "
   ]
  },
  {
   "cell_type": "code",
   "execution_count": 8,
   "id": "fecc9af7",
   "metadata": {},
   "outputs": [
    {
     "data": {
      "text/plain": [
       "[2, 4, 6, 8, 10]"
      ]
     },
     "execution_count": 8,
     "metadata": {},
     "output_type": "execute_result"
    }
   ],
   "source": [
    "lst2 = [x for x in range(1,11) if x%2==0]\n",
    "lst2"
   ]
  },
  {
   "cell_type": "markdown",
   "id": "49de3447",
   "metadata": {},
   "source": [
    "Tuples have a special quality when it comes to for loops. If you are iterating through a sequence that contains tuples, the item can actually be the tuple itself, this is an example of tuple unpacking. During the for loop we will be unpacking the tuple inside of a sequence and we can access the individual items inside that tuple!"
   ]
  },
  {
   "cell_type": "code",
   "execution_count": 12,
   "id": "f80693ea",
   "metadata": {},
   "outputs": [
    {
     "name": "stdout",
     "output_type": "stream",
     "text": [
      "1\n",
      "1 2\n",
      "3\n",
      "3 4\n",
      "5\n",
      "5 6\n"
     ]
    }
   ],
   "source": [
    "lst3 = [(1,2),(3,4),(5,6)]\n",
    "for x,y in lst3:\n",
    "    print(x)\n",
    "    print(x,y)"
   ]
  },
  {
   "cell_type": "code",
   "execution_count": 18,
   "id": "1deb271d",
   "metadata": {},
   "outputs": [
    {
     "name": "stdout",
     "output_type": "stream",
     "text": [
      "3\n"
     ]
    },
    {
     "data": {
      "text/plain": [
       "[6, 9, 12, 15, 18, 21, 24, 27, 30, 33, 36, 39, 42, 45, 48, 51, 54, 57]"
      ]
     },
     "execution_count": 18,
     "metadata": {},
     "output_type": "execute_result"
    }
   ],
   "source": [
    "a = input()\n",
    "lst4 = [i*int(a) for i in range(2,20)]\n",
    "lst4"
   ]
  },
  {
   "cell_type": "code",
   "execution_count": 20,
   "id": "07cdfff7",
   "metadata": {},
   "outputs": [
    {
     "name": "stdout",
     "output_type": "stream",
     "text": [
      "75\n",
      "150\n",
      "145\n",
      "50\n"
     ]
    }
   ],
   "source": [
    "numbers = [12, 75, 150, 180, 145,50, 525]\n",
    "for i in numbers:\n",
    "    if i%5==0:\n",
    "        if i>500:\n",
    "            break\n",
    "        elif i>150:\n",
    "            continue\n",
    "        else:\n",
    "            print(i)            "
   ]
  },
  {
   "cell_type": "code",
   "execution_count": 21,
   "id": "d9d9bf43",
   "metadata": {},
   "outputs": [
    {
     "name": "stdout",
     "output_type": "stream",
     "text": [
      "75\n",
      "150\n",
      "145\n"
     ]
    }
   ],
   "source": [
    "numbers = [12, 75, 150, 180, 145,525,50]\n",
    "for i in numbers:\n",
    "    if i%5==0:\n",
    "        if i>500:\n",
    "            break\n",
    "        elif i>150:\n",
    "            continue\n",
    "        else:\n",
    "            print(i)            "
   ]
  },
  {
   "cell_type": "code",
   "execution_count": 22,
   "id": "3d9a8f4b",
   "metadata": {},
   "outputs": [
    {
     "name": "stdout",
     "output_type": "stream",
     "text": [
      "50\n",
      "40\n",
      "30\n",
      "20\n",
      "10\n"
     ]
    }
   ],
   "source": [
    "lis=[10, 20, 30, 40, 50]\n",
    "lis2 = reversed(lis)\n",
    "for i in lis2:\n",
    "    print(i)"
   ]
  },
  {
   "cell_type": "code",
   "execution_count": 24,
   "id": "933f9647",
   "metadata": {},
   "outputs": [
    {
     "name": "stdout",
     "output_type": "stream",
     "text": [
      "50\n",
      "40\n",
      "30\n",
      "20\n",
      "10\n"
     ]
    }
   ],
   "source": [
    "lis=[10, 20, 30, 40, 50]\n",
    "lis_size = len(lis)-1\n",
    "\n",
    "for i in range(lis_size,-1,-1):#range(start,stop,step) , start is inclusive and stop is exclusive\n",
    "    print(lis[i])"
   ]
  },
  {
   "cell_type": "markdown",
   "id": "038ec0f4",
   "metadata": {},
   "source": [
    "### Else block in for loop\n",
    "\n",
    "Same as the if statement, Python allows us to use an else statement along with for loop. In Python, for-loop can have the else block, which will be executed when the loop terminates normally. Defining the else part with for loop is optional.\n",
    "else block will be skipped when for loop terminate abruptly the break statement is used to break the loop"
   ]
  },
  {
   "cell_type": "code",
   "execution_count": 31,
   "id": "58dc2b05",
   "metadata": {},
   "outputs": [
    {
     "name": "stdout",
     "output_type": "stream",
     "text": [
      "1\n",
      "2\n",
      "3\n",
      "No Break\n"
     ]
    }
   ],
   "source": [
    "for i in range(1, 4):\n",
    "    print(i)\n",
    "else:  # Executed because no break in for\n",
    "    print(\"No Break\")"
   ]
  },
  {
   "cell_type": "code",
   "execution_count": 33,
   "id": "a01b130b",
   "metadata": {},
   "outputs": [
    {
     "name": "stdout",
     "output_type": "stream",
     "text": [
      "For List 1:\n",
      "list contains an even number\n",
      " \n",
      "For List 2:\n",
      "list does not contain an even number\n"
     ]
    }
   ],
   "source": [
    "def contains_even_number(l):\n",
    "    for element in l:\n",
    "        if element % 2 == 0:\n",
    "            print (\"list contains an even number\")\n",
    "            break\n",
    " \n",
    "    # This else executes only if break is NEVER\n",
    "    # reached and loop terminated after all iterations.\n",
    "    else:    \n",
    "        print (\"list does not contain an even number\")\n",
    " \n",
    "# Driver code\n",
    "print (\"For List 1:\")\n",
    "contains_even_number([1, 9, 8])\n",
    "print (\" \\nFor List 2:\")\n",
    "contains_even_number([1, 3, 5])"
   ]
  },
  {
   "cell_type": "code",
   "execution_count": 28,
   "id": "5f7f6ddd",
   "metadata": {},
   "outputs": [
    {
     "name": "stdout",
     "output_type": "stream",
     "text": [
      "20 40 60 80 100 "
     ]
    }
   ],
   "source": [
    "my_list = [10, 20, 30, 40, 50, 60, 70, 80, 90, 100]\n",
    "# stat from index 1 with step 2( means 1, 3, 5, an so on)\n",
    "for i in my_list[1::2]:\n",
    "    print(i, end=\" \")"
   ]
  },
  {
   "cell_type": "markdown",
   "id": "800ab8a6",
   "metadata": {},
   "source": [
    "Find the sum of the series upto n terms"
   ]
  },
  {
   "cell_type": "code",
   "execution_count": 30,
   "id": "34ca7c95",
   "metadata": {},
   "outputs": [
    {
     "name": "stdout",
     "output_type": "stream",
     "text": [
      "2+22+222+2222+22222+\n",
      "Sum of above series is: 24690\n"
     ]
    }
   ],
   "source": [
    "n = 5\n",
    "start = 2 # first number of sequence\n",
    "sum_seq = 0\n",
    "\n",
    "for i in range(0, n):\n",
    "    print(start, end=\"+\")\n",
    "    sum_seq += start\n",
    "   \n",
    "    start = start * 10 + 2  # calculate the next term\n",
    "print(\"\\nSum of above series is:\", sum_seq)"
   ]
  }
 ],
 "metadata": {
  "kernelspec": {
   "display_name": "Python 3",
   "language": "python",
   "name": "python3"
  },
  "language_info": {
   "codemirror_mode": {
    "name": "ipython",
    "version": 3
   },
   "file_extension": ".py",
   "mimetype": "text/x-python",
   "name": "python",
   "nbconvert_exporter": "python",
   "pygments_lexer": "ipython3",
   "version": "3.8.8"
  }
 },
 "nbformat": 4,
 "nbformat_minor": 5
}
