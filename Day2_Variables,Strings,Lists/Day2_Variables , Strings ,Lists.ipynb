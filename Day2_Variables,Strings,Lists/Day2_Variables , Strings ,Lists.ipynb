{
 "cells": [
  {
   "cell_type": "markdown",
   "id": "2b28721d",
   "metadata": {},
   "source": [
    "<li>Boolean values are the two constant objects False and True.</li>\n",
    "<li>The built-in function bool() can be used to cast any value to boolean value.</li>"
   ]
  },
  {
   "cell_type": "code",
   "execution_count": 1,
   "id": "5ad4545f",
   "metadata": {},
   "outputs": [
    {
     "name": "stdout",
     "output_type": "stream",
     "text": [
      "True False\n"
     ]
    }
   ],
   "source": [
    "print(True,False)"
   ]
  },
  {
   "cell_type": "markdown",
   "id": "a272ba81",
   "metadata": {},
   "source": [
    "To know the type of the variable"
   ]
  },
  {
   "cell_type": "code",
   "execution_count": 2,
   "id": "1d780fa0",
   "metadata": {},
   "outputs": [
    {
     "data": {
      "text/plain": [
       "bool"
      ]
     },
     "execution_count": 2,
     "metadata": {},
     "output_type": "execute_result"
    }
   ],
   "source": [
    "type(True)"
   ]
  },
  {
   "cell_type": "code",
   "execution_count": 3,
   "id": "ac748598",
   "metadata": {},
   "outputs": [],
   "source": [
    "test_str = \"Ram\""
   ]
  },
  {
   "cell_type": "code",
   "execution_count": 6,
   "id": "0eb972c8",
   "metadata": {},
   "outputs": [
    {
     "data": {
      "text/plain": [
       "True"
      ]
     },
     "execution_count": 6,
     "metadata": {},
     "output_type": "execute_result"
    }
   ],
   "source": [
    "test_str.isalpha() or test_str.isnum() #Logical Operator"
   ]
  },
  {
   "cell_type": "markdown",
   "id": "bec31c58",
   "metadata": {},
   "source": [
    "Casting the variable/value"
   ]
  },
  {
   "cell_type": "code",
   "execution_count": 5,
   "id": "0772819a",
   "metadata": {},
   "outputs": [
    {
     "name": "stdout",
     "output_type": "stream",
     "text": [
      "100.0\n",
      "253\n"
     ]
    }
   ],
   "source": [
    "x=float(100)\n",
    "y=int(253.2)\n",
    "print(x)\n",
    "print(y)"
   ]
  },
  {
   "cell_type": "markdown",
   "id": "bc87108b",
   "metadata": {},
   "source": [
    "Below are the few string manipulation functions"
   ]
  },
  {
   "cell_type": "markdown",
   "id": "ca4969a3",
   "metadata": {},
   "source": [
    "<li>isalnum():Returns True if all characters in the string are alphanumeric</li>\n",
    "<li>isalpha()   :Returns True if all characters in the string are in the alphabet</li>\n",
    "<li>isdecimal() :Returns True if all characters in the string are decimals</li>\n",
    "<li>isdigit()   :Returns True if all characters in the string are digits</li>\n",
    "<li>isidentifier()  :Returns True if the string is an identifier</li>\n",
    "<li>islower()   :Returns True if all characters in the string are lower case</li>\n",
    "<li>isnumeric():    Returns True if all characters in the string are numeric</li>\n",
    "<li>isprintable()   :Returns True if all characters in the string are printable</li>\n",
    "<li>isspace()   :Returns True if all characters in the string are whitespaces</li>\n",
    "<li>istitle():  Returns True if the string follows the rules of a title</li>\n",
    "<li>isupper():  Returns True if all characters in the string are upper case</li>\n",
    "<li>join(): Joins the elements of an iterable to the end of the string</li>\n",
    "<li>ljust():    Returns a left justified version of the string</li>\n",
    "<li>lower():    Converts a string into lower case</li>\n",
    "<li>lstrip():   Returns a left trim version of the string</li>\n",
    "<li>maketrans() :Returns a translation table to be used in translations</li>\n",
    "<li>partition() :Returns a tuple where the string is parted into three parts</li>\n",
    "<li>replace()   :Returns a string where a specified value is replaced with a specified value</li>\n",
    "<li>rfind() :Searches the string for a specified value and returns the last position of where it was found</li>\n",
    "<li>rindex()    :Searches the string for a specified value and returns the last position of where it was found</li>\n",
    "<li>rjust() :Returns a right justified version of the string</li>\n",
    "<li>rpartition()    :Returns a tuple where the string is parted into three parts</li>\n",
    "<li>rsplit()    :Splits the string at the specified separator, and returns a list</li>\n",
    "<li>rstrip()    :Returns a right trim version of the string</li>\n",
    "<li>split() :Splits the string at the specified separator, and returns a list</li>\n",
    "<li>splitlines():   Splits the string at line breaks and returns a list</li>\n",
    "<li>startswith():   Returns true if the string starts with the specified value</li>\n",
    "<li>strip() :Returns a trimmed version of the string</li>\n",
    "<li>swapcase(): Swaps cases, lower case becomes upper case and vice versa</li>\n",
    "<li>title() :Converts the first character of each word to upper case</li>\n",
    "<li>translate():    Returns a translated string</li>\n",
    "<li>upper():    Converts a string into upper case</li>\n",
    "<li>zfill():    Fills the string with a specified number of 0 values at the beginning</li>\n",
    "<li>capitalize() : Converts the first character to upper case</li>\n",
    "<li>casefold() : Converts string into lower case</li>\n",
    "<li>center() : Returns a centered string</li>\n",
    "<li>count() : Returns the number of times a specified value occurs in a string</li>\n",
    "<li>endswith() : Returns true if the string ends with the specified value</li>\n",
    "<li>find() : Searches the string for a specified value and returns the position of where it was found</li>\n",
    "<li>index() : Searches the string for a specified value and returns the position of where it was found</li>"
   ]
  },
  {
   "cell_type": "markdown",
   "id": "453c6511",
   "metadata": {},
   "source": [
    "Lists is a data structure in Python that is mutable,changeable,ordered sequence of elements.Each element in list is called item.The values in list are seperated by comma and kept between square brackets."
   ]
  },
  {
   "cell_type": "code",
   "execution_count": 7,
   "id": "54889d3a",
   "metadata": {},
   "outputs": [
    {
     "data": {
      "text/plain": [
       "list"
      ]
     },
     "execution_count": 7,
     "metadata": {},
     "output_type": "execute_result"
    }
   ],
   "source": [
    "type([])"
   ]
  },
  {
   "cell_type": "code",
   "execution_count": 23,
   "id": "c311ee8e",
   "metadata": {},
   "outputs": [],
   "source": [
    "lst = []#Defining an empty list"
   ]
  },
  {
   "cell_type": "code",
   "execution_count": 10,
   "id": "e207d55c",
   "metadata": {},
   "outputs": [],
   "source": [
    "lst1 = list()#Defining an empty list"
   ]
  },
  {
   "cell_type": "code",
   "execution_count": 24,
   "id": "45f9d837",
   "metadata": {},
   "outputs": [],
   "source": [
    "lst = ['Maths','Chemistry',100,200]"
   ]
  },
  {
   "cell_type": "code",
   "execution_count": 12,
   "id": "220794d8",
   "metadata": {},
   "outputs": [
    {
     "data": {
      "text/plain": [
       "list"
      ]
     },
     "execution_count": 12,
     "metadata": {},
     "output_type": "execute_result"
    }
   ],
   "source": [
    "type(lst)"
   ]
  },
  {
   "cell_type": "code",
   "execution_count": 25,
   "id": "6659af46",
   "metadata": {},
   "outputs": [
    {
     "name": "stdout",
     "output_type": "stream",
     "text": [
      "['Maths', 'Chemistry', 100, 200]\n"
     ]
    }
   ],
   "source": [
    "print(lst)"
   ]
  },
  {
   "cell_type": "code",
   "execution_count": 14,
   "id": "4b8e32ae",
   "metadata": {},
   "outputs": [
    {
     "data": {
      "text/plain": [
       "4"
      ]
     },
     "execution_count": 14,
     "metadata": {},
     "output_type": "execute_result"
    }
   ],
   "source": [
    "len(lst)#Provides the length of the list"
   ]
  },
  {
   "cell_type": "code",
   "execution_count": 27,
   "id": "0f3d4562",
   "metadata": {},
   "outputs": [],
   "source": [
    "lst.append(\"Raju\")#Appends the element at the end of the list"
   ]
  },
  {
   "cell_type": "code",
   "execution_count": 28,
   "id": "d9a58d5e",
   "metadata": {},
   "outputs": [
    {
     "data": {
      "text/plain": [
       "['Maths', 'Chemistry', 100, 200, 'Raju']"
      ]
     },
     "execution_count": 28,
     "metadata": {},
     "output_type": "execute_result"
    }
   ],
   "source": [
    "lst"
   ]
  },
  {
   "cell_type": "markdown",
   "id": "97fdefe9",
   "metadata": {},
   "source": [
    "Indexes in lists starts from 0."
   ]
  },
  {
   "cell_type": "code",
   "execution_count": 29,
   "id": "37a6ef7f",
   "metadata": {},
   "outputs": [
    {
     "data": {
      "text/plain": [
       "'Chemistry'"
      ]
     },
     "execution_count": 29,
     "metadata": {},
     "output_type": "execute_result"
    }
   ],
   "source": [
    "lst[1]"
   ]
  },
  {
   "cell_type": "code",
   "execution_count": 33,
   "id": "bd621e7b",
   "metadata": {},
   "outputs": [
    {
     "data": {
      "text/plain": [
       "[100, 200]"
      ]
     },
     "execution_count": 33,
     "metadata": {},
     "output_type": "execute_result"
    }
   ],
   "source": [
    "lst[2:4]#This helps in picking only the required elements from the list by providing incides."
   ]
  },
  {
   "cell_type": "code",
   "execution_count": 36,
   "id": "df8eaf4e",
   "metadata": {},
   "outputs": [],
   "source": [
    "lst.insert(2,'Ram')#Appends the element at the desired position in the list"
   ]
  },
  {
   "cell_type": "code",
   "execution_count": 37,
   "id": "8eff67bc",
   "metadata": {},
   "outputs": [
    {
     "data": {
      "text/plain": [
       "['Maths', 'Chemistry', 'Ram', 'Raju', 100, 200, 'Raju']"
      ]
     },
     "execution_count": 37,
     "metadata": {},
     "output_type": "execute_result"
    }
   ],
   "source": [
    "lst"
   ]
  },
  {
   "cell_type": "code",
   "execution_count": 41,
   "id": "8ca993a4",
   "metadata": {},
   "outputs": [],
   "source": [
    "lst1 = [1,2,3,4,5,6]"
   ]
  },
  {
   "cell_type": "code",
   "execution_count": 42,
   "id": "c42f45cf",
   "metadata": {},
   "outputs": [],
   "source": [
    "lst1.extend([\"7\",\"8\"])#Appends the elements in the list as a sperate element instead of nested list , \n",
    "                      #but these will be added as a string values to list."
   ]
  },
  {
   "cell_type": "code",
   "execution_count": 43,
   "id": "e6bcb680",
   "metadata": {},
   "outputs": [
    {
     "data": {
      "text/plain": [
       "[1, 2, 3, 4, 5, 6, '7', '8']"
      ]
     },
     "execution_count": 43,
     "metadata": {},
     "output_type": "execute_result"
    }
   ],
   "source": [
    "lst1"
   ]
  },
  {
   "cell_type": "code",
   "execution_count": 47,
   "id": "27d91116",
   "metadata": {},
   "outputs": [
    {
     "data": {
      "text/plain": [
       "'8'"
      ]
     },
     "execution_count": 47,
     "metadata": {},
     "output_type": "execute_result"
    }
   ],
   "source": [
    "lst1.pop()#Removes the last element in the list"
   ]
  },
  {
   "cell_type": "code",
   "execution_count": 48,
   "id": "91742fb8",
   "metadata": {},
   "outputs": [
    {
     "data": {
      "text/plain": [
       "[1, 2, 3, 4, 5, 6, '7']"
      ]
     },
     "execution_count": 48,
     "metadata": {},
     "output_type": "execute_result"
    }
   ],
   "source": [
    "lst1"
   ]
  },
  {
   "cell_type": "code",
   "execution_count": 49,
   "id": "1ed87855",
   "metadata": {},
   "outputs": [
    {
     "data": {
      "text/plain": [
       "6"
      ]
     },
     "execution_count": 49,
     "metadata": {},
     "output_type": "execute_result"
    }
   ],
   "source": [
    "lst1.pop(5)#Removes the provided index element in the list"
   ]
  },
  {
   "cell_type": "code",
   "execution_count": 50,
   "id": "91d7ae30",
   "metadata": {},
   "outputs": [
    {
     "data": {
      "text/plain": [
       "[1, 2, 3, 4, 5, '7']"
      ]
     },
     "execution_count": 50,
     "metadata": {},
     "output_type": "execute_result"
    }
   ],
   "source": [
    "lst1"
   ]
  },
  {
   "cell_type": "code",
   "execution_count": 52,
   "id": "0973011a",
   "metadata": {},
   "outputs": [
    {
     "data": {
      "text/plain": [
       "1"
      ]
     },
     "execution_count": 52,
     "metadata": {},
     "output_type": "execute_result"
    }
   ],
   "source": [
    "lst1.index(2)#Provides the index of the 2 in the list."
   ]
  },
  {
   "cell_type": "code",
   "execution_count": 53,
   "id": "758a1c44",
   "metadata": {},
   "outputs": [
    {
     "data": {
      "text/plain": [
       "1"
      ]
     },
     "execution_count": 53,
     "metadata": {},
     "output_type": "execute_result"
    }
   ],
   "source": [
    "lst1.index(2,0,5)#Search the index value of 2 from the 0th element to the 5th element."
   ]
  }
 ],
 "metadata": {
  "kernelspec": {
   "display_name": "Python 3",
   "language": "python",
   "name": "python3"
  },
  "language_info": {
   "codemirror_mode": {
    "name": "ipython",
    "version": 3
   },
   "file_extension": ".py",
   "mimetype": "text/x-python",
   "name": "python",
   "nbconvert_exporter": "python",
   "pygments_lexer": "ipython3",
   "version": "3.8.8"
  }
 },
 "nbformat": 4,
 "nbformat_minor": 5
}
