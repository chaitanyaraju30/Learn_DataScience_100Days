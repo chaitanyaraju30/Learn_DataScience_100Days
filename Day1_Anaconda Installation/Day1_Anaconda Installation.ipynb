{
 "cells": [
  {
   "cell_type": "markdown",
   "id": "dc578a3e",
   "metadata": {},
   "source": [
    "## 1.Anaconda Installation"
   ]
  },
  {
   "cell_type": "markdown",
   "id": "0e20e8ff",
   "metadata": {},
   "source": [
    "The first step is to set the environment. For that you can go to https://docs.anaconda.com/anaconda/install/windows/ and download anaconda.After downloading anaconda install the package and all the related packages gets installed.Jupyter Notebook is one of the best tools for data science which can be installed while installing the anaconda."
   ]
  },
  {
   "cell_type": "markdown",
   "id": "725b3f6b",
   "metadata": {},
   "source": [
    "## 2.Setup the Environment for projects"
   ]
  },
  {
   "cell_type": "markdown",
   "id": "22f65bad",
   "metadata": {},
   "source": [
    "Create an environment for each project to be worked on because different projects have different dependencies associated with the projects.Below are the steps for creating an environment."
   ]
  },
  {
   "cell_type": "markdown",
   "id": "a207482a",
   "metadata": {},
   "source": [
    "To check the existing environments use the below command"
   ]
  },
  {
   "cell_type": "code",
   "execution_count": null,
   "id": "7573777e",
   "metadata": {},
   "outputs": [],
   "source": [
    "conda env list"
   ]
  },
  {
   "cell_type": "markdown",
   "id": "f73569da",
   "metadata": {},
   "source": [
    "Create the new enivronment as below"
   ]
  },
  {
   "cell_type": "code",
   "execution_count": null,
   "id": "1c77e966",
   "metadata": {},
   "outputs": [],
   "source": [
    "conda create <environment name> -n <python==python version>"
   ]
  },
  {
   "cell_type": "markdown",
   "id": "dbba31c2",
   "metadata": {},
   "source": [
    "To activate the created environment"
   ]
  },
  {
   "cell_type": "code",
   "execution_count": null,
   "id": "971df519",
   "metadata": {},
   "outputs": [],
   "source": [
    "conda activate <environment name>"
   ]
  },
  {
   "cell_type": "markdown",
   "id": "5c2f8b3a",
   "metadata": {},
   "source": [
    "Verify that the new environment was installed correctly          "
   ]
  },
  {
   "cell_type": "code",
   "execution_count": null,
   "id": "5b66063c",
   "metadata": {},
   "outputs": [],
   "source": [
    "conda env list"
   ]
  },
  {
   "cell_type": "markdown",
   "id": "fadf2c19",
   "metadata": {},
   "source": [
    "####  Note : To view the installation of the anaconda use the below link which has been explained by Sharan.\n",
    "https://www.youtube.com/watch?v=VaXijSN_SJc"
   ]
  }
 ],
 "metadata": {
  "kernelspec": {
   "display_name": "Python 3",
   "language": "python",
   "name": "python3"
  },
  "language_info": {
   "codemirror_mode": {
    "name": "ipython",
    "version": 3
   },
   "file_extension": ".py",
   "mimetype": "text/x-python",
   "name": "python",
   "nbconvert_exporter": "python",
   "pygments_lexer": "ipython3",
   "version": "3.8.8"
  }
 },
 "nbformat": 4,
 "nbformat_minor": 5
}
